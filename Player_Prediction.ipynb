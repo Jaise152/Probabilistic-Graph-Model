{
 "cells": [
  {
   "cell_type": "markdown",
   "metadata": {},
   "source": [
    "#### <center><h2>Artificial and Computational Intelligence (Assignment - 2)</h2></center>"
   ]
  },
  {
   "cell_type": "markdown",
   "metadata": {},
   "source": [
    "## Problem Statement\n",
    "\n",
    "As part of the 2nd Assignment, we'll implement Bayesian Networks and also learn to use the pomegranate library.\n",
    "\n",
    "You are required to create a bayesian network model which would help you predict the probability. The detailed problem description is attached as a PDF as a part of this assignment along with the marking scheme.  \n",
    "\n",
    "### What is a Bayesian Network ?\n",
    "\n",
    "A Bayesian network, Bayes network, belief network, decision network, Bayes(ian) model or probabilistic directed acyclic graphical model is a probabilistic graphical model (a type of statistical model) that represents a set of variables and their conditional dependencies via a directed acyclic graph (DAG). \n",
    "\n",
    "Bayesian networks are ideal for taking an event that occurred and predicting the likelihood that any one of several possible known causes was the contributing factor. For example, a Bayesian network could represent the probabilistic relationships between diseases and symptoms. Given symptoms, the network can be used to compute the probabilities of the presence of various diseases. \n",
    "\n",
    "### Dataset\n",
    "\n",
    "The dataset can be downloaded from https://drive.google.com/drive/folders/1oMtKmmvPkN4O8DmrHMJe6M8CbB93Z5kw .You can access it only using your BITS IDs. Also, the same dataset is attached along with the assignment. \n",
    "\n",
    "#### Dataset Description\n",
    "##### Sample Tuple\n",
    "\n",
    "Y\twon\t5wickets\tlost\t2nd\tvWest_Indies\tHome\t6-Nov-11\n",
    "\n",
    "##### Explanation\n",
    "- The first column represents if Ashwin was in the playing 11 or not. \n",
    "- The second column represents the Result of the match . win indicates India won the match.\n",
    "- The third column represents the Margin of victory / losss.\n",
    "- The fourth column represents the results of the toss. won indicates India won the toss. \n",
    "- The fifth column represents the batting order. If India batted 1st or 2nd. \n",
    "- The sixth column represents the opponent.\n",
    "- The seventh column represents the location of the match. If the match was held in Home(India) or away. \n",
    "- The last column represents the start date of the match.\n",
    "\n",
    "\n",
    "### Evaluation\n",
    "We wish to evaluate based on \n",
    "- coding practices being followed\n",
    "- commenting to explain the code and logic behind doing something\n",
    "- your understanding and explanation of data\n",
    "- how good the model would perform"
   ]
  },
  {
   "cell_type": "markdown",
   "metadata": {},
   "source": [
    "### BITS Roll Number , Name\n",
    "2018ab04633 - Jaise K Joseph\n",
    "\n",
    "2018ab04637 - Voruganti Achyuth Reddy\n",
    "\n",
    "2018ab04684 - Kiran Kumar K"
   ]
  },
  {
   "cell_type": "code",
   "execution_count": 1,
   "metadata": {},
   "outputs": [],
   "source": [
    "%matplotlib inline\n",
    "import matplotlib.pyplot as plt\n",
    "import seaborn; seaborn.set_style('whitegrid')\n",
    "import numpy\n",
    "import pandas as pd\n",
    "\n",
    "from pomegranate import *\n"
   ]
  },
  {
   "cell_type": "code",
   "execution_count": 2,
   "metadata": {},
   "outputs": [],
   "source": [
    "#Reading data from csv file\n",
    "\n",
    "TestStats = pd.read_csv(\"India_Test_Stats.csv\") "
   ]
  },
  {
   "cell_type": "code",
   "execution_count": 3,
   "metadata": {},
   "outputs": [
    {
     "data": {
      "text/html": [
       "<div>\n",
       "<style scoped>\n",
       "    .dataframe tbody tr th:only-of-type {\n",
       "        vertical-align: middle;\n",
       "    }\n",
       "\n",
       "    .dataframe tbody tr th {\n",
       "        vertical-align: top;\n",
       "    }\n",
       "\n",
       "    .dataframe thead th {\n",
       "        text-align: right;\n",
       "    }\n",
       "</style>\n",
       "<table border=\"1\" class=\"dataframe\">\n",
       "  <thead>\n",
       "    <tr style=\"text-align: right;\">\n",
       "      <th></th>\n",
       "      <th>Ashwin</th>\n",
       "      <th>Result</th>\n",
       "      <th>Margin</th>\n",
       "      <th>Toss</th>\n",
       "      <th>Bat</th>\n",
       "      <th>Opposition</th>\n",
       "      <th>Location</th>\n",
       "      <th>Start Date</th>\n",
       "    </tr>\n",
       "  </thead>\n",
       "  <tbody>\n",
       "    <tr>\n",
       "      <td>0</td>\n",
       "      <td>Y</td>\n",
       "      <td>won</td>\n",
       "      <td>5 wickets</td>\n",
       "      <td>lost</td>\n",
       "      <td>2nd</td>\n",
       "      <td>v West Indies</td>\n",
       "      <td>Home</td>\n",
       "      <td>6-Nov-11</td>\n",
       "    </tr>\n",
       "    <tr>\n",
       "      <td>1</td>\n",
       "      <td>Y</td>\n",
       "      <td>won</td>\n",
       "      <td>inns &amp; 15 runs</td>\n",
       "      <td>won</td>\n",
       "      <td>1st</td>\n",
       "      <td>v West Indies</td>\n",
       "      <td>Home</td>\n",
       "      <td>14-Nov-11</td>\n",
       "    </tr>\n",
       "    <tr>\n",
       "      <td>2</td>\n",
       "      <td>Y</td>\n",
       "      <td>draw</td>\n",
       "      <td>-</td>\n",
       "      <td>lost</td>\n",
       "      <td>2nd</td>\n",
       "      <td>v West Indies</td>\n",
       "      <td>Home</td>\n",
       "      <td>22-Nov-11</td>\n",
       "    </tr>\n",
       "    <tr>\n",
       "      <td>3</td>\n",
       "      <td>Y</td>\n",
       "      <td>lost</td>\n",
       "      <td>122 runs</td>\n",
       "      <td>lost</td>\n",
       "      <td>2nd</td>\n",
       "      <td>v Australia</td>\n",
       "      <td>Away</td>\n",
       "      <td>26-Dec-11</td>\n",
       "    </tr>\n",
       "    <tr>\n",
       "      <td>4</td>\n",
       "      <td>Y</td>\n",
       "      <td>lost</td>\n",
       "      <td>inns &amp; 68 runs</td>\n",
       "      <td>won</td>\n",
       "      <td>1st</td>\n",
       "      <td>v Australia</td>\n",
       "      <td>Away</td>\n",
       "      <td>3-Jan-12</td>\n",
       "    </tr>\n",
       "    <tr>\n",
       "      <td>...</td>\n",
       "      <td>...</td>\n",
       "      <td>...</td>\n",
       "      <td>...</td>\n",
       "      <td>...</td>\n",
       "      <td>...</td>\n",
       "      <td>...</td>\n",
       "      <td>...</td>\n",
       "      <td>...</td>\n",
       "    </tr>\n",
       "    <tr>\n",
       "      <td>80</td>\n",
       "      <td>Y</td>\n",
       "      <td>won</td>\n",
       "      <td>203 runs</td>\n",
       "      <td>won</td>\n",
       "      <td>1st</td>\n",
       "      <td>v South Africa</td>\n",
       "      <td>Home</td>\n",
       "      <td>2-Oct-19</td>\n",
       "    </tr>\n",
       "    <tr>\n",
       "      <td>81</td>\n",
       "      <td>Y</td>\n",
       "      <td>won</td>\n",
       "      <td>inns &amp; 137 runs</td>\n",
       "      <td>won</td>\n",
       "      <td>1st</td>\n",
       "      <td>v South Africa</td>\n",
       "      <td>Home</td>\n",
       "      <td>10-Oct-19</td>\n",
       "    </tr>\n",
       "    <tr>\n",
       "      <td>82</td>\n",
       "      <td>Y</td>\n",
       "      <td>won</td>\n",
       "      <td>inns &amp; 202 runs</td>\n",
       "      <td>won</td>\n",
       "      <td>1st</td>\n",
       "      <td>v South Africa</td>\n",
       "      <td>Home</td>\n",
       "      <td>19-Oct-19</td>\n",
       "    </tr>\n",
       "    <tr>\n",
       "      <td>83</td>\n",
       "      <td>Y</td>\n",
       "      <td>won</td>\n",
       "      <td>inns &amp; 130 runs</td>\n",
       "      <td>lost</td>\n",
       "      <td>2nd</td>\n",
       "      <td>v Bangladesh</td>\n",
       "      <td>Home</td>\n",
       "      <td>14-Nov-19</td>\n",
       "    </tr>\n",
       "    <tr>\n",
       "      <td>84</td>\n",
       "      <td>Y</td>\n",
       "      <td>won</td>\n",
       "      <td>inns &amp; 46 runs</td>\n",
       "      <td>lost</td>\n",
       "      <td>2nd</td>\n",
       "      <td>v Bangladesh</td>\n",
       "      <td>Home</td>\n",
       "      <td>22-Nov-19</td>\n",
       "    </tr>\n",
       "  </tbody>\n",
       "</table>\n",
       "<p>85 rows × 8 columns</p>\n",
       "</div>"
      ],
      "text/plain": [
       "   Ashwin Result           Margin  Toss  Bat      Opposition Location  \\\n",
       "0       Y    won        5 wickets  lost  2nd   v West Indies     Home   \n",
       "1       Y    won   inns & 15 runs   won  1st   v West Indies     Home   \n",
       "2       Y   draw                -  lost  2nd   v West Indies     Home   \n",
       "3       Y   lost         122 runs  lost  2nd     v Australia     Away   \n",
       "4       Y   lost   inns & 68 runs   won  1st     v Australia     Away   \n",
       "..    ...    ...              ...   ...  ...             ...      ...   \n",
       "80      Y    won         203 runs   won  1st  v South Africa     Home   \n",
       "81      Y    won  inns & 137 runs   won  1st  v South Africa     Home   \n",
       "82      Y    won  inns & 202 runs   won  1st  v South Africa     Home   \n",
       "83      Y    won  inns & 130 runs  lost  2nd    v Bangladesh     Home   \n",
       "84      Y    won   inns & 46 runs  lost  2nd    v Bangladesh     Home   \n",
       "\n",
       "   Start Date  \n",
       "0    6-Nov-11  \n",
       "1   14-Nov-11  \n",
       "2   22-Nov-11  \n",
       "3   26-Dec-11  \n",
       "4    3-Jan-12  \n",
       "..        ...  \n",
       "80   2-Oct-19  \n",
       "81  10-Oct-19  \n",
       "82  19-Oct-19  \n",
       "83  14-Nov-19  \n",
       "84  22-Nov-19  \n",
       "\n",
       "[85 rows x 8 columns]"
      ]
     },
     "execution_count": 3,
     "metadata": {},
     "output_type": "execute_result"
    }
   ],
   "source": [
    "#Checking data\n",
    "\n",
    "TestStats"
   ]
  },
  {
   "cell_type": "code",
   "execution_count": 4,
   "metadata": {},
   "outputs": [
    {
     "data": {
      "text/plain": [
       "Ashwin        85\n",
       "Result        85\n",
       "Margin        85\n",
       "Toss          85\n",
       "Bat           85\n",
       "Opposition    85\n",
       "Location      85\n",
       "Start Date    85\n",
       "dtype: int64"
      ]
     },
     "execution_count": 4,
     "metadata": {},
     "output_type": "execute_result"
    }
   ],
   "source": [
    "TestStats.count()"
   ]
  },
  {
   "cell_type": "markdown",
   "metadata": {},
   "source": [
    "### Fuctions used"
   ]
  },
  {
   "cell_type": "code",
   "execution_count": 5,
   "metadata": {},
   "outputs": [],
   "source": [
    "#Function to calcuate probability given the column and the value to find probability\n",
    "\n",
    "def Prior_Probability(pColumns,Pvalue):\n",
    "    a = list(TestStats[pColumns].unique())\n",
    "    c =list(TestStats[pColumns ].value_counts())\n",
    "    p=c[a.index(Pvalue)]/ TestStats.shape[0]\n",
    "    return p"
   ]
  },
  {
   "cell_type": "code",
   "execution_count": 6,
   "metadata": {},
   "outputs": [],
   "source": [
    "#Function to get the probabilty distribution in a dictonary  \n",
    "\n",
    "def Prior_probabilty_distribution(PColumn):\n",
    "    Prior_Probability_Dict ={}\n",
    "    a = list(TestStats[PColumn].unique())\n",
    "    for i in a:\n",
    "        tempdict= {i:Prior_Probability(PColumn,i)}\n",
    "        Prior_Probability_Dict.update(tempdict)\n",
    "    return Prior_Probability_Dict"
   ]
  },
  {
   "cell_type": "code",
   "execution_count": 7,
   "metadata": {},
   "outputs": [],
   "source": [
    "#Function to calculate probability given datafame, column and values\n",
    "\n",
    "def probability(Datframe,pColumns,Pvalue):\n",
    "    a = list(Datframe[pColumns].unique())\n",
    "    if Pvalue not in a:\n",
    "        p = 0\n",
    "    else:\n",
    "        c =list(Datframe[pColumns ].value_counts())\n",
    "        p=c[a.index(Pvalue)]/ Datframe.shape[0]\n",
    "    return p"
   ]
  },
  {
   "cell_type": "code",
   "execution_count": 8,
   "metadata": {},
   "outputs": [],
   "source": [
    "#Function to conver flat list to list of list\n",
    "\n",
    "def divide_chunks(l, n):  \n",
    "    # looping till length l\n",
    "    for i in range(0, len(l), n):  \n",
    "        yield l[i:i + n]"
   ]
  },
  {
   "cell_type": "code",
   "execution_count": 9,
   "metadata": {},
   "outputs": [
    {
     "data": {
      "text/plain": [
       "{'won': 0.5529411764705883,\n",
       " 'draw': 0.25882352941176473,\n",
       " 'lost': 0.18823529411764706}"
      ]
     },
     "execution_count": 9,
     "metadata": {},
     "output_type": "execute_result"
    }
   ],
   "source": [
    "Prior_probabilty_distribution(\"Result\")"
   ]
  },
  {
   "cell_type": "code",
   "execution_count": 10,
   "metadata": {},
   "outputs": [
    {
     "data": {
      "text/plain": [
       "{'2nd': 0.5411764705882353, '1st': 0.4588235294117647}"
      ]
     },
     "execution_count": 10,
     "metadata": {},
     "output_type": "execute_result"
    }
   ],
   "source": [
    "Prior_probabilty_distribution(\"Bat\")"
   ]
  },
  {
   "cell_type": "code",
   "execution_count": 11,
   "metadata": {},
   "outputs": [],
   "source": [
    "#Function to return conditional probability give the 2 or 3 attribute\n",
    "\n",
    "def New_conditional_probability(v_df,v_lsit):\n",
    "    lst=[]\n",
    "    if len(v_lsit)==2:\n",
    "        n = 3\n",
    "        a=(v_df[v_lsit[0]].unique())\n",
    "        b=v_df[v_lsit[1]].unique()\n",
    "        for i in a:\n",
    "            for j in b:\n",
    "                #print(i,j)\n",
    "                lk = v_df.loc[v_df[v_lsit[0]] == i]\n",
    "                lst.append(i)\n",
    "                lst.append(j)\n",
    "                lst.append(probability(lk,v_lsit[1],j)*probability(TestStats,v_lsit[0],i))\n",
    "    else:\n",
    "        n = 4\n",
    "        a=(v_df[v_lsit[0]].unique())\n",
    "        b=v_df[v_lsit[1]].unique()\n",
    "        c=v_df[v_lsit[2]].unique()\n",
    "        for i in a:\n",
    "            for j in b:\n",
    "                lk = v_df.loc[v_df[v_lsit[0]] == i]\n",
    "                for k in c: \n",
    "                    jk=lk.loc[lk[v_lsit[1]]==j]\n",
    "                    lst.append(i)\n",
    "                    lst.append(j)\n",
    "                    lst.append(k)\n",
    "                    lst.append(probability(lk,v_lsit[1],j)*probability(TestStats,v_lsit[0],i)*probability(jk,v_lsit[2],k))\n",
    "    x = list(divide_chunks(lst, n))\n",
    "    return x"
   ]
  },
  {
   "cell_type": "code",
   "execution_count": 12,
   "metadata": {
    "scrolled": true
   },
   "outputs": [
    {
     "data": {
      "text/plain": [
       "[['Home', 'Y', 'won', 0.38823529411764707],\n",
       " ['Home', 'Y', 'draw', 0.08235294117647059],\n",
       " ['Home', 'Y', 'lost', 0.03529411764705882],\n",
       " ['Home', 'N', 'won', 0.0],\n",
       " ['Home', 'N', 'draw', 0.0],\n",
       " ['Home', 'N', 'lost', 0.0],\n",
       " ['Away', 'Y', 'won', 0.07058823529411765],\n",
       " ['Away', 'Y', 'draw', 0.10588235294117648],\n",
       " ['Away', 'Y', 'lost', 0.1411764705882353],\n",
       " ['Away', 'N', 'won', 0.03529411764705883],\n",
       " ['Away', 'N', 'draw', 0.058823529411764705],\n",
       " ['Away', 'N', 'lost', 0.0823529411764706]]"
      ]
     },
     "execution_count": 12,
     "metadata": {},
     "output_type": "execute_result"
    }
   ],
   "source": [
    "#Contional probabilty of Result, Ashwin playing and location\n",
    "\n",
    "New_conditional_probability(TestStats,[\"Location\",\"Ashwin\",\"Result\"])"
   ]
  },
  {
   "cell_type": "code",
   "execution_count": 13,
   "metadata": {},
   "outputs": [],
   "source": [
    "#Lists for which conditional probabilty has to be calculated\n",
    "\n",
    "Resultlist = [\"Ashwin\",\"Bat\",\"Result\"]\n",
    "Ashwinlist= [\"Location\",\"Ashwin\"]\n",
    "Baltlist = [\"Toss\",\"Bat\"]"
   ]
  },
  {
   "cell_type": "code",
   "execution_count": 14,
   "metadata": {
    "scrolled": true
   },
   "outputs": [],
   "source": [
    "#Calculating Prior pobability for Toss and Location\n",
    "v_toss = DiscreteDistribution(Prior_probabilty_distribution(\"Toss\"))\n",
    "v_loc = DiscreteDistribution(Prior_probabilty_distribution(\"Location\"))\n"
   ]
  },
  {
   "cell_type": "code",
   "execution_count": 15,
   "metadata": {},
   "outputs": [],
   "source": [
    "#Calcualating conditional probability for Ashwin and Bat\n",
    "v_ashwin = ConditionalProbabilityTable(New_conditional_probability(TestStats,Ashwinlist), [v_loc])\n",
    "v_bat = ConditionalProbabilityTable(New_conditional_probability(TestStats,Baltlist),[v_toss])"
   ]
  },
  {
   "cell_type": "code",
   "execution_count": 16,
   "metadata": {},
   "outputs": [],
   "source": [
    "#Calcualating conditional probability for Ashwin ,Bat and Results\n",
    "\n",
    "x = New_conditional_probability(TestStats,Resultlist)\n",
    "v_result= ConditionalProbabilityTable(x,[v_ashwin,v_bat])"
   ]
  },
  {
   "cell_type": "markdown",
   "metadata": {},
   "source": [
    "## Question 3"
   ]
  },
  {
   "cell_type": "markdown",
   "metadata": {},
   "source": [
    "### Model Building "
   ]
  },
  {
   "cell_type": "code",
   "execution_count": 17,
   "metadata": {},
   "outputs": [],
   "source": [
    "#Defining states\n",
    "\n",
    "s1 = State(v_loc, 'Location')\n",
    "s2 = State(v_toss, 'Toss')\n",
    "s3 = State(v_ashwin, 'Ashwin')\n",
    "s4 = State(v_bat, 'Bat')\n",
    "s5 = State(v_result, 'Result')"
   ]
  },
  {
   "cell_type": "code",
   "execution_count": 18,
   "metadata": {},
   "outputs": [],
   "source": [
    "#Getting the model\n",
    "\n",
    "model = BayesianNetwork('Test_prediction')"
   ]
  },
  {
   "cell_type": "code",
   "execution_count": 19,
   "metadata": {},
   "outputs": [],
   "source": [
    "#Adding the states to model\n",
    "\n",
    "model.add_states(s1, s2, s3,s4,s5)"
   ]
  },
  {
   "cell_type": "code",
   "execution_count": 20,
   "metadata": {},
   "outputs": [],
   "source": [
    "#Adding edges \n",
    "\n",
    "model.add_edge(s1,s3)\n",
    "model.add_edge(s2,s4)\n",
    "model.add_edge(s3,s5)\n",
    "model.add_edge(s4,s5)"
   ]
  },
  {
   "cell_type": "code",
   "execution_count": 21,
   "metadata": {},
   "outputs": [],
   "source": [
    "#Baking Model\n",
    "\n",
    "model.bake()"
   ]
  },
  {
   "cell_type": "markdown",
   "metadata": {},
   "source": [
    "## Question 1\n",
    "Create a function to calculate prior probability of any given variable. The function should read in an array and output a dictionary of prior probability of each possible outcome. "
   ]
  },
  {
   "cell_type": "code",
   "execution_count": 22,
   "metadata": {},
   "outputs": [
    {
     "name": "stdout",
     "output_type": "stream",
     "text": [
      "Ashwin {'Y': 0.8235294117647058, 'N': 0.17647058823529413}\n",
      "Result {'won': 0.5529411764705883, 'draw': 0.25882352941176473, 'lost': 0.18823529411764706}\n",
      "Toss {'lost': 0.5294117647058824, 'won': 0.47058823529411764}\n",
      "Bat {'2nd': 0.5411764705882353, '1st': 0.4588235294117647}\n",
      "Location {'Home': 0.5058823529411764, 'Away': 0.49411764705882355}\n"
     ]
    }
   ],
   "source": [
    "for col in ['Ashwin','Result','Toss','Bat','Location']:\n",
    "    print(col,Prior_probabilty_distribution(col))"
   ]
  },
  {
   "cell_type": "markdown",
   "metadata": {},
   "source": [
    "## Question 2\n",
    "Create a function to calculate conditional probability. The function should read in multiple arrays and calculate the posterior probability of the last array wrt to previous arrays. "
   ]
  },
  {
   "cell_type": "code",
   "execution_count": 23,
   "metadata": {},
   "outputs": [
    {
     "data": {
      "text/plain": [
       "[['Home', 'Y', 0.5058823529411764],\n",
       " ['Home', 'N', 0.0],\n",
       " ['Away', 'Y', 0.31764705882352945],\n",
       " ['Away', 'N', 0.17647058823529413]]"
      ]
     },
     "execution_count": 23,
     "metadata": {},
     "output_type": "execute_result"
    }
   ],
   "source": [
    "Cond_list1 = [\"Location\",\"Ashwin\"]\n",
    "New_conditional_probability(TestStats,Cond_list1)"
   ]
  },
  {
   "cell_type": "code",
   "execution_count": 24,
   "metadata": {},
   "outputs": [
    {
     "data": {
      "text/plain": [
       "[['Home', 'Y', 'won', 0.38823529411764707],\n",
       " ['Home', 'Y', 'draw', 0.08235294117647059],\n",
       " ['Home', 'Y', 'lost', 0.03529411764705882],\n",
       " ['Home', 'N', 'won', 0.0],\n",
       " ['Home', 'N', 'draw', 0.0],\n",
       " ['Home', 'N', 'lost', 0.0],\n",
       " ['Away', 'Y', 'won', 0.07058823529411765],\n",
       " ['Away', 'Y', 'draw', 0.10588235294117648],\n",
       " ['Away', 'Y', 'lost', 0.1411764705882353],\n",
       " ['Away', 'N', 'won', 0.03529411764705883],\n",
       " ['Away', 'N', 'draw', 0.058823529411764705],\n",
       " ['Away', 'N', 'lost', 0.0823529411764706]]"
      ]
     },
     "execution_count": 24,
     "metadata": {},
     "output_type": "execute_result"
    }
   ],
   "source": [
    "Cond_list2 = [\"Location\",\"Ashwin\",\"Result\"]\n",
    "New_conditional_probability(TestStats,Cond_list2)"
   ]
  },
  {
   "cell_type": "markdown",
   "metadata": {},
   "source": [
    "## Question 4\n",
    "Use the Bayesian Network model created to calculate the probability of"
   ]
  },
  {
   "cell_type": "markdown",
   "metadata": {},
   "source": [
    "#### a. India winning, batting 2nd, Ashwin playing"
   ]
  },
  {
   "cell_type": "code",
   "execution_count": 25,
   "metadata": {},
   "outputs": [
    {
     "name": "stdout",
     "output_type": "stream",
     "text": [
      "[{\n",
      "    \"class\" :\"Distribution\",\n",
      "    \"dtype\" :\"str\",\n",
      "    \"name\" :\"DiscreteDistribution\",\n",
      "    \"parameters\" :[\n",
      "        {\n",
      "            \"Home\" :0.6198457928260142,\n",
      "            \"Away\" :0.38015420717398596\n",
      "        }\n",
      "    ],\n",
      "    \"frozen\" :false\n",
      "}\n",
      " {\n",
      "    \"class\" :\"Distribution\",\n",
      "    \"dtype\" :\"str\",\n",
      "    \"name\" :\"DiscreteDistribution\",\n",
      "    \"parameters\" :[\n",
      "        {\n",
      "            \"lost\" :0.9077809798270892,\n",
      "            \"won\" :0.09221902017291081\n",
      "        }\n",
      "    ],\n",
      "    \"frozen\" :false\n",
      "}\n",
      " 'Y' '2nd' 'won']\n"
     ]
    }
   ],
   "source": [
    "print(model.predict_proba([None, None, 'Y', '2nd', 'won']))"
   ]
  },
  {
   "cell_type": "markdown",
   "metadata": {},
   "source": [
    "#### b. India winning, batting 2nd, Ashwin not playing"
   ]
  },
  {
   "cell_type": "code",
   "execution_count": 26,
   "metadata": {},
   "outputs": [
    {
     "name": "stdout",
     "output_type": "stream",
     "text": [
      "[{\n",
      "    \"class\" :\"Distribution\",\n",
      "    \"dtype\" :\"str\",\n",
      "    \"name\" :\"DiscreteDistribution\",\n",
      "    \"parameters\" :[\n",
      "        {\n",
      "            \"Home\" :0.5117630777747025,\n",
      "            \"Away\" :0.4882369222252975\n",
      "        }\n",
      "    ],\n",
      "    \"frozen\" :false\n",
      "}\n",
      " {\n",
      "    \"class\" :\"Distribution\",\n",
      "    \"dtype\" :\"str\",\n",
      "    \"name\" :\"DiscreteDistribution\",\n",
      "    \"parameters\" :[\n",
      "        {\n",
      "            \"lost\" :0.5586206896551724,\n",
      "            \"won\" :0.44137931034482764\n",
      "        }\n",
      "    ],\n",
      "    \"frozen\" :false\n",
      "}\n",
      " 'N' '2nd' 'won']\n"
     ]
    }
   ],
   "source": [
    "print(model.predict_proba([None, None, 'N', '2nd', 'won']))"
   ]
  },
  {
   "cell_type": "markdown",
   "metadata": {},
   "source": [
    "#### c) India losing, batting 2nd, Ashwin playing"
   ]
  },
  {
   "cell_type": "code",
   "execution_count": 27,
   "metadata": {},
   "outputs": [
    {
     "name": "stdout",
     "output_type": "stream",
     "text": [
      "[{\n",
      "    \"class\" :\"Distribution\",\n",
      "    \"dtype\" :\"str\",\n",
      "    \"name\" :\"DiscreteDistribution\",\n",
      "    \"parameters\" :[\n",
      "        {\n",
      "            \"Home\" :0.6198457928260142,\n",
      "            \"Away\" :0.38015420717398596\n",
      "        }\n",
      "    ],\n",
      "    \"frozen\" :false\n",
      "}\n",
      " {\n",
      "    \"class\" :\"Distribution\",\n",
      "    \"dtype\" :\"str\",\n",
      "    \"name\" :\"DiscreteDistribution\",\n",
      "    \"parameters\" :[\n",
      "        {\n",
      "            \"lost\" :0.9077809798270892,\n",
      "            \"won\" :0.09221902017291081\n",
      "        }\n",
      "    ],\n",
      "    \"frozen\" :false\n",
      "}\n",
      " 'Y' '2nd' 'lost']\n"
     ]
    }
   ],
   "source": [
    "print(model.predict_proba([None, None, 'Y', '2nd', 'lost']))"
   ]
  },
  {
   "cell_type": "markdown",
   "metadata": {},
   "source": [
    "#### d) India losing, batting 2nd, Ashwin not playing"
   ]
  },
  {
   "cell_type": "code",
   "execution_count": 28,
   "metadata": {},
   "outputs": [
    {
     "name": "stdout",
     "output_type": "stream",
     "text": [
      "[{\n",
      "    \"class\" :\"Distribution\",\n",
      "    \"dtype\" :\"str\",\n",
      "    \"name\" :\"DiscreteDistribution\",\n",
      "    \"parameters\" :[\n",
      "        {\n",
      "            \"Home\" :0.0,\n",
      "            \"Away\" :1.0\n",
      "        }\n",
      "    ],\n",
      "    \"frozen\" :false\n",
      "}\n",
      " {\n",
      "    \"class\" :\"Distribution\",\n",
      "    \"dtype\" :\"str\",\n",
      "    \"name\" :\"DiscreteDistribution\",\n",
      "    \"parameters\" :[\n",
      "        {\n",
      "            \"lost\" :0.9077809798270892,\n",
      "            \"won\" :0.09221902017291081\n",
      "        }\n",
      "    ],\n",
      "    \"frozen\" :false\n",
      "}\n",
      " 'N' '2nd' 'lost']\n"
     ]
    }
   ],
   "source": [
    "print(model.predict_proba([None, None, 'N', '2nd', 'lost']))"
   ]
  },
  {
   "cell_type": "markdown",
   "metadata": {},
   "source": [
    "<h3><center> Happy Coding!</center></h3>"
   ]
  },
  {
   "cell_type": "code",
   "execution_count": null,
   "metadata": {},
   "outputs": [],
   "source": []
  }
 ],
 "metadata": {
  "kernelspec": {
   "display_name": "Python 3",
   "language": "python",
   "name": "python3"
  },
  "language_info": {
   "codemirror_mode": {
    "name": "ipython",
    "version": 3
   },
   "file_extension": ".py",
   "mimetype": "text/x-python",
   "name": "python",
   "nbconvert_exporter": "python",
   "pygments_lexer": "ipython3",
   "version": "3.7.4"
  }
 },
 "nbformat": 4,
 "nbformat_minor": 2
}
